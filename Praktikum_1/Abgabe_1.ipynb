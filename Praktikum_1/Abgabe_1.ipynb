{
 "cells": [
  {
   "cell_type": "code",
   "execution_count": 1,
   "metadata": {},
   "outputs": [
    {
     "data": {
      "text/html": [
       "<style>.container { width:100% !important; }</style>"
      ],
      "text/plain": [
       "<IPython.core.display.HTML object>"
      ]
     },
     "metadata": {},
     "output_type": "display_data"
    }
   ],
   "source": [
    "# print out each line in the input cell not only the last one\n",
    "from IPython.core.interactiveshell import InteractiveShell\n",
    "InteractiveShell.ast_node_interactivity = \"all\"\n",
    "\n",
    "# expand the cell width to 100% of t \n",
    "from IPython.core.display import display, HTML\n",
    "display(HTML(\"<style>.container { width:100% !important; }</style>\"))"
   ]
  },
  {
   "cell_type": "code",
   "execution_count": 2,
   "metadata": {},
   "outputs": [
    {
     "name": "stdout",
     "output_type": "stream",
     "text": [
      "Annahme das die Person 1,80m Gross ist und eine Armlaenge von 30cm besitzt\n",
      "daraus folgt das wir mit unserer Leiter am Punkt 0,5.7(7,8-1,8m-0.30m) ansetzten können\n",
      "Anhand dieser Annahme ist Gegeben: A(1.6/1.6) und B(0/5.7) mithilfe der beiden Punkte berrechnen wir eine Gerade die durch beide Punkte hindurchgeht. Hierbei sieht man bereits das 5.7 der y-Achsenabschnitt der Funktion ist, also müssen wir nurnoch die steigung errechnen und dann überprüfen ob die Leiter kleiner als 6,50 ist.\n"
     ]
    }
   ],
   "source": [
    "print(\"Annahme das die Person 1,80m Gross ist und eine Armlaenge von 30cm besitzt\")\n",
    "print(\"daraus folgt das wir mit unserer Leiter am Punkt 0,5.7(7,8-1,8m-0.30m) ansetzten können\")\n",
    "print(\"Anhand dieser Annahme ist Gegeben: A(1.6/1.6) und B(0/5.7) mithilfe der beiden Punkte berrechnen wir eine Gerade die durch beide Punkte hindurchgeht. Hierbei sieht man bereits das 5.7 der y-Achsenabschnitt der Funktion ist, also müssen wir nurnoch die steigung errechnen und dann überprüfen ob die Leiter kleiner als 6,50 ist.\")"
   ]
  },
  {
   "cell_type": "code",
   "execution_count": 3,
   "metadata": {},
   "outputs": [
    {
     "name": "stdout",
     "output_type": "stream",
     "text": [
      "Wir definieren a(steigung und b(y-Achsenabschnitt) und stellen die gleichungen auf)\n",
      "unsere Lösungen sind: \n",
      "[\n",
      "[a == (-41/16), b == (57/10)]\n",
      "]\n",
      "daraus ergibt sich die gleichung y=a*x+b\n"
     ]
    }
   ],
   "source": [
    "print(\"Wir definieren a(steigung und b(y-Achsenabschnitt) und stellen die gleichungen auf)\")\n",
    "a,b = var('a,b')\n",
    "\n",
    "loesung = solve([0*a+b==5.7,1.6*a+b==1.6], a,b)\n",
    "print(\"unsere Lösungen sind: \")\n",
    "print loesung \n",
    "print(\"daraus ergibt sich die gleichung y=a*x+b\")"
   ]
  },
  {
   "cell_type": "code",
   "execution_count": 4,
   "metadata": {},
   "outputs": [
    {
     "name": "stdout",
     "output_type": "stream",
     "text": [
      "Nun wollen wir grafisch zeigen das das unsere oben erstellte Gerade auch durch den Punkt (1.6/1.6) geht\n",
      "Hierbei nutzen wir die Funktion y=1*x+0 da bei der der x wert und y wert identisch ist und sie somit den Punkt (1.6/1.6)schneidet \n",
      "-41/16\n"
     ]
    },
    {
     "data": {
      "image/png": "[encoded data removed]",
      "text/plain": [
       "Graphics object consisting of 2 graphics primitives"
      ]
     },
     "execution_count": 4,
     "metadata": {},
     "output_type": "execute_result"
    }
   ],
   "source": [
    "print(\"Nun wollen wir grafisch zeigen das das unsere oben erstellte Gerade auch durch den Punkt (1.6/1.6) geht\")\n",
    "print(\"Hierbei nutzen wir die Funktion y=1*x+0 da bei der der x wert und y wert identisch ist und sie somit den Punkt (1.6/1.6)schneidet \")\n",
    "a = loesung[0][0].right()\n",
    "b = loesung[0][1].right()\n",
    "print a\n",
    "f(x) = a*x+b\n",
    "a(x) = 1*x+0\n",
    "plot([f(x),a(x)],0,3)\n"
   ]
  },
  {
   "cell_type": "code",
   "execution_count": 5,
   "metadata": {},
   "outputs": [
    {
     "name": "stdout",
     "output_type": "stream",
     "text": [
      "nun wollen wir noch Ueberpruefen ob unsere Leite kleiner als 6.50m ist. Hierbei Stellen wir uns ein Dreieck vor welches von der x-Achse und y-Achse beschränkt wird.\n",
      "[\n",
      "x == (456/205)\n",
      "]\n"
     ]
    }
   ],
   "source": [
    "print(\"nun wollen wir noch Ueberpruefen ob unsere Leite kleiner als 6.50m ist. Hierbei Stellen wir uns ein Dreieck vor welches von der x-Achse und y-Achse beschränkt wird.\")\n",
    "xLength=solve([(loesung[0][0].right())*x+loesung[0][1].right()==0],x)\n",
    "print xLength"
   ]
  },
  {
   "cell_type": "code",
   "execution_count": 6,
   "metadata": {
    "scrolled": true
   },
   "outputs": [
    {
     "name": "stdout",
     "output_type": "stream",
     "text": [
      "57/10\n"
     ]
    }
   ],
   "source": [
    "yLength=f(0)-f((456/205))\n",
    "print yLength"
   ]
  },
  {
   "cell_type": "code",
   "execution_count": 9,
   "metadata": {},
   "outputs": [
    {
     "name": "stdout",
     "output_type": "stream",
     "text": [
      "This is a good solution 6\n"
     ]
    }
   ],
   "source": [
    "if (6.5 < sqrt(((xLength[0].right()^2)+(yLength^2)))):\n",
    "    print('This is not a possiable Solution {} m is bigger then 6.5 meter'.format(int(sqrt(((xLength[0].right()^2)+(yLength^2))))))\n",
    "else:\n",
    "    print('This is a good solution {}'.format(int(sqrt(((xLength[0].right()^2)+(yLength^2))))))"
   ]
  },
  {
   "cell_type": "code",
   "execution_count": null,
   "metadata": {},
   "outputs": [],
   "source": [
    "N()"
   ]
  },
  {
   "cell_type": "code",
   "execution_count": null,
   "metadata": {},
   "outputs": [],
   "source": []
  }
 ],
 "metadata": {
  "kernelspec": {
   "display_name": "SageMath 8.6",
   "language": "",
   "name": "sagemath"
  },
  "language_info": {
   "codemirror_mode": {
    "name": "ipython",
    "version": 2
   },
   "file_extension": ".py",
   "mimetype": "text/x-python",
   "name": "python",
   "nbconvert_exporter": "python",
   "pygments_lexer": "ipython2",
   "version": "2.7.15"
  }
 },
 "nbformat": 4,
 "nbformat_minor": 2
}
