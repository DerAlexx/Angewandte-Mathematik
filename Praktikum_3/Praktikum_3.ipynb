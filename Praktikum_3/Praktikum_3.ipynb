{
 "cells": [
  {
   "cell_type": "code",
   "execution_count": 22,
   "metadata": {},
   "outputs": [
    {
     "data": {
      "text/html": [
       "<h1 style=\"text-align: center;\">Aufgabe 1</h1>\n",
       "          <h2 style=\"text-align: center;\">\n",
       "              Angewandte Mathematik\n",
       "          </h2>\n",
       "          <h4 style=\"text-align: center;\">\n",
       "              von Alexander M. Westphal, Klaus Riedl, Robert Taglauer\n",
       "          </h4>"
      ],
      "text/plain": [
       "<h1 style=\"text-align: center;\">Aufgabe 1</h1>\n",
       "          <h2 style=\"text-align: center;\">\n",
       "              Angewandte Mathematik\n",
       "          </h2>\n",
       "          <h4 style=\"text-align: center;\">\n",
       "              von Alexander M. Westphal, Klaus Riedl, Robert Taglauer\n",
       "          </h4>"
      ]
     },
     "execution_count": 22,
     "metadata": {},
     "output_type": "execute_result"
    }
   ],
   "source": [
    "html.eval('''<h1 style=\"text-align: center;\">Aufgabe 1</h1>\n",
    "          <h2 style=\"text-align: center;\">\n",
    "              Angewandte Mathematik\n",
    "          </h2>\n",
    "          <h4 style=\"text-align: center;\">\n",
    "              von Alexander M. Westphal, Klaus Riedl, Robert Taglauer\n",
    "          </h4>''')"
   ]
  },
  {
   "cell_type": "code",
   "execution_count": 6,
   "metadata": {
    "scrolled": false
   },
   "outputs": [
    {
     "data": {
      "image/png": "[encoded data removed]",
      "text/plain": [
       "Graphics object consisting of 1 graphics primitive"
      ]
     },
     "execution_count": 6,
     "metadata": {},
     "output_type": "execute_result"
    }
   ],
   "source": [
    "data = [(0,0),(1,0),(1,1),(0,1)]\n",
    "# (0.25,0), (0.25,-0.25),(0.75,-0.25),(0.75,0),\n",
    "line(data)"
   ]
  },
  {
   "cell_type": "code",
   "execution_count": 19,
   "metadata": {},
   "outputs": [
    {
     "data": {
      "text/html": [
       "<h1 style=\"text-align: left;\">Aufgabe 1 a</h1>"
      ],
      "text/plain": [
       "<h1 style=\"text-align: left;\">Aufgabe 1 a</h1>"
      ]
     },
     "execution_count": 19,
     "metadata": {},
     "output_type": "execute_result"
    }
   ],
   "source": [
    "html.eval('''<h1 style=\"text-align: left;\">Aufgabe 1 a</h1>''')"
   ]
  },
  {
   "cell_type": "code",
   "execution_count": 26,
   "metadata": {
    "scrolled": false
   },
   "outputs": [
    {
     "name": "stdout",
     "output_type": "stream",
     "text": [
      "The number of Iterations: 2\n"
     ]
    }
   ],
   "source": [
    "iterations = int(input('The number of Iterations: '))\n",
    "\n",
    "data = [(0,0),(1,0),(1,1),(0,1)]\n",
    "\n",
    "def iterator(iterations):\n",
    "    global data\n",
    "    line(data)\n",
    "    newdata = []\n",
    "    if iterations == 0:\n",
    "        return\n",
    "    else:\n",
    "        for point in range(len(data)):\n",
    "            if point+1 == len(data):\n",
    "                iterator(iterations-1)\n",
    "            else:\n",
    "                newPoints = []\n",
    "                pointa = data[point]\n",
    "                pointb = data[point+1]\n",
    "                lenX = pointb[0]-pointa[0] if pointb[0]-pointa[0] > 0 else pointa[0]-pointb[0]\n",
    "                lenY = pointb[1]-pointa[1] if pointb[1]-pointa[1] > 0 else pointa[1]-pointb[1]\n",
    "                if lenX == 0:\n",
    "                    newLen = (1/3) * lenY \n",
    "                    newPoints.extend([\n",
    "                        (pointa[0], pointa[1]+newLen),\n",
    "                        (pointa[0]+newLen, pointa[1]+newLen),  \n",
    "                        (pointa[0]+newLen, pointa[1]+2*newLen),\n",
    "                        (pointa[0], pointa[1]+newLen)\n",
    "                    ])\n",
    "                elif lenY == 0:\n",
    "                    newLen = (1/3) * lenX\n",
    "                    newPoints.extend([\n",
    "                        (pointa[0]+newLen, pointa[1]),\n",
    "                        (pointa[0]+newLen, pointa[1]+newLen),  \n",
    "                        (pointa[0]+2*newLen, pointa[1]+newLen),\n",
    "                        (pointa[0]+2*newLen, pointa[1])\n",
    "                    ])\n",
    "                    \n",
    "                else:\n",
    "                    print 'Something went wrong'\n",
    "                newdata.extend(pointa)\n",
    "                newdata.extend(newPoints)\n",
    "                newdata.extend(pointb)\n",
    "        data = newdata\n",
    "            \n",
    "iterator(iterations)\n",
    "            "
   ]
  },
  {
   "cell_type": "code",
   "execution_count": 24,
   "metadata": {},
   "outputs": [
    {
     "data": {
      "text/html": [
       "<h1 style=\"text-align: left;\">Aufgabe 1 b</h1>"
      ],
      "text/plain": [
       "<h1 style=\"text-align: left;\">Aufgabe 1 b</h1>"
      ]
     },
     "execution_count": 24,
     "metadata": {},
     "output_type": "execute_result"
    }
   ],
   "source": [
    "html.eval('''<h1 style=\"text-align: left;\">Aufgabe 1 b</h1>''')"
   ]
  },
  {
   "cell_type": "code",
   "execution_count": 25,
   "metadata": {},
   "outputs": [
    {
     "data": {
      "text/html": [
       "<h1 style=\"text-align: left;\">Aufgabe 1 c</h1>"
      ],
      "text/plain": [
       "<h1 style=\"text-align: left;\">Aufgabe 1 c</h1>"
      ]
     },
     "execution_count": 25,
     "metadata": {},
     "output_type": "execute_result"
    }
   ],
   "source": [
    "html.eval('''<h1 style=\"text-align: left;\">Aufgabe 1 c</h1>''')"
   ]
  },
  {
   "cell_type": "code",
   "execution_count": null,
   "metadata": {},
   "outputs": [],
   "source": []
  }
 ],
 "metadata": {
  "kernelspec": {
   "display_name": "SageMath 8.6",
   "language": "",
   "name": "sagemath"
  },
  "language_info": {
   "codemirror_mode": {
    "name": "ipython",
    "version": 2
   },
   "file_extension": ".py",
   "mimetype": "text/x-python",
   "name": "python",
   "nbconvert_exporter": "python",
   "pygments_lexer": "ipython2",
   "version": "2.7.16"
  }
 },
 "nbformat": 4,
 "nbformat_minor": 2
}
