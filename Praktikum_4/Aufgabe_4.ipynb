{
 "cells": [
  {
   "cell_type": "markdown",
   "metadata": {},
   "source": [
    "# Aufgabe 4 \n",
    "## Ziel: Bau eines Adalines (ADAptive LInear NEuron)\n",
    "#### von Alexander M. Westphal, Klaus Riedl, Robert Taglauer"
   ]
  },
  {
   "cell_type": "markdown",
   "metadata": {},
   "source": [
    "***"
   ]
  },
  {
   "cell_type": "markdown",
   "metadata": {},
   "source": [
    "### Einlesen der Daten und brechnen der Ableitung"
   ]
  },
  {
   "cell_type": "code",
   "execution_count": 45,
   "metadata": {
    "scrolled": false
   },
   "outputs": [
    {
     "name": "stdout",
     "output_type": "stream",
     "text": [
      "Partzielle Ableitungen nach W0, W1, W2\n",
      "Ableitung von Ew0 ist: (w0, x1, x2, w1, w2, y) |--> w1*x1 + w2*x2 + w0 - y\n",
      "Ableitung von Ew1 ist: (w0, x1, x2, w1, w2, y) |--> (w1*x1 + w2*x2 + w0 - y)*x1\n",
      "Ableitung von Ew2 ist: (w0, x1, x2, w1, w2, y) |--> (w1*x1 + w2*x2 + w0 - y)*x2\n"
     ]
    }
   ],
   "source": [
    "import csv\n",
    "from __future__ import print_function\n",
    "import numpy as np\n",
    "\n",
    "# Daten aus unserer CVS Datei\n",
    "columnOne=[]\n",
    "columnTwo=[]\n",
    "columnThree=[]\n",
    "x1,x2,w0,w1,w2 = var('x1','x2','w0','w1','w2')\n",
    "# Fehler Funktion\n",
    "E(w0,x1, x2,w1,w2,y) = 1/2 * (y -(w0*1+w1*x1+w2*x2))^2\n",
    "\n",
    "def read_CVS():\n",
    "    '''\n",
    "    Methode um die Daten der CVS-Datei einzulesen und in unsere Listen zu speichern.\n",
    "    '''\n",
    "    global columnOne,columnTwo,columnThree\n",
    "    with open('adaline.csv') as cvs_File:\n",
    "        readCSV = csv.reader(cvs_File)\n",
    "        for row in readCSV:\n",
    "            columnOne.append(float(row[0]))\n",
    "            columnTwo.append(float(row[1]))\n",
    "            columnThree.append(float(row[2]))\n",
    "\n",
    "#Ableitungen nach jedem Gewicht\n",
    "Ew0 = E.diff(w0)\n",
    "Ew1 = E.diff(w1)\n",
    "Ew2 = E.diff(w2)\n",
    "\n",
    "print(\"Partzielle Ableitungen nach W0, W1, W2\")\n",
    "print(\"Ableitung von Ew0 ist: {0}\".format(Ew0))\n",
    "print(\"Ableitung von Ew1 ist: {0}\".format(Ew1))\n",
    "print(\"Ableitung von Ew2 ist: {0}\".format(Ew2))\n",
    "\n",
    "# Gewichte \n",
    "#w0, w1, w2 = 0.5134, 0.4825, 0.5134\n",
    "\n",
    "w0, w1, w2 = 0.42,-0.35, 0.25"
   ]
  },
  {
   "cell_type": "markdown",
   "metadata": {},
   "source": [
    "### Plotter - Methode für die Daten des Adalines"
   ]
  },
  {
   "cell_type": "code",
   "execution_count": 46,
   "metadata": {
    "scrolled": true
   },
   "outputs": [],
   "source": [
    "import matplotlib as plt\n",
    "import matplotlib.patches as mpatches\n",
    "import matplotlib.pyplot as plot \n",
    "import numpy as np \n",
    "\n",
    "# Labels der Legende.\n",
    "one = mpatches.Patch(facecolor='red', label='-1', edgecolor = 'black')\n",
    "minusone = mpatches.Patch(facecolor='blue', label = '1', edgecolor = 'black')\n",
    "\n",
    "def plotter():\n",
    "    '''\n",
    "    Methode die unsere Punkte Plottet.\n",
    "    '''\n",
    "    global columnOne,columnTwo,columnThree\n",
    "    plot.scatter(columnTwo, columnThree, c=columnOne, cmap=plt.colors.ListedColormap(['red', 'blue']))\n",
    "    plot.xlabel('X-Achse')\n",
    "    plot.ylabel('Y-Achse')\n",
    "    plot.legend(handles=[one, minusone], fancybox=False,loc='lower right', framealpha=1, shadow=False, borderpad=0)\n",
    "    plot.show()\n"
   ]
  },
  {
   "cell_type": "markdown",
   "metadata": {},
   "source": [
    "### Methoden des Adalines "
   ]
  },
  {
   "cell_type": "code",
   "execution_count": 47,
   "metadata": {},
   "outputs": [],
   "source": [
    "def Summe(x1, x2, weights): \n",
    "    '''\n",
    "    Methode die sie Summe aus dem Eingangsvektor und unseren gewichten bildet.\n",
    "    '''\n",
    "    return float(weights[0] + weights[1] * x1 + weights[2] * x2)\n",
    "\n",
    "\n",
    "def point_Classifiaction(x1, x2, weights): \n",
    "    '''\n",
    "    Methode zur Punktklassifikation \n",
    "    '''\n",
    "    return 1 if Summe(x1, x2, weights) > 0 else -1\n",
    "\n",
    "def trainAdaline(iteration):\n",
    "    '''\n",
    "    Methode die das Training unseres Adalines uebernimmt. (Methode ist Rekursive)\n",
    "    '''\n",
    "    global w0,w1,w2,Ew0,Ew1,Ew2,x1,x2\n",
    "    eta = 0.0001 #lernrate \n",
    "    a,b,c = w0,w1,w2\n",
    "    counter = 0\n",
    "    if iteration == -1: return\n",
    "    for i in range(len(columnThree)):\n",
    "        w0 = w0 - (eta * Ew0(w0=a,w1=b,w2=c,x1 = columnTwo[i], x2 = columnThree[i], y = columnOne[i]))\n",
    "        w1 = w1 - (eta * Ew1(w0=a,w1=b,w2=c,x1 = columnTwo[i], x2 = columnThree[i], y = columnOne[i]))\n",
    "        w2 = w2 - (eta * Ew2(w0=a,w1=b,w2=c,x1 = columnTwo[i], x2 = columnThree[i], y = columnOne[i]))\n",
    "        if (point_Classifiaction(columnTwo[i],columnThree[i],weights = [w0,w1,w2]) != columnOne[i]):\n",
    "            counter += 1\n",
    "    if(iteration % 10 == 0):print(\"Schritt:{0}  -- Erfolgsrate: {1}\".format(901-iteration, counter/100))\n",
    "    if(counter == 0):\n",
    "        print(\"Schritt:{0}  -- Erfolgsrate: {1}\".format(901-iteration, counter/100))\n",
    "        print(\"\\nGewichte w0: {0}, w1: {1}, w2: {2}\".format(w0,w1,w2))\n",
    "        return\n",
    "    trainAdaline(iteration-1)\n"
   ]
  },
  {
   "cell_type": "markdown",
   "metadata": {},
   "source": [
    "### Hauptmethode des Adalineprogrammes"
   ]
  },
  {
   "cell_type": "code",
   "execution_count": 48,
   "metadata": {
    "scrolled": false
   },
   "outputs": [
    {
     "name": "stdout",
     "output_type": "stream",
     "text": [
      "Schritt:1  -- Erfolgsrate: 3/100\n",
      "Schritt:3  -- Erfolgsrate: 0\n",
      "\n",
      "Gewichte w0: 0.420209139821106, w1: -0.355580082795463, w2: 0.251447107759902\n"
     ]
    }
   ],
   "source": [
    "def main():\n",
    "    '''\n",
    "    Main Method\n",
    "    '''\n",
    "    read_CVS()  \n",
    "    trainAdaline(900)\n",
    "    \n",
    "if __name__ == \"__main__\":\n",
    "    main()"
   ]
  },
  {
   "cell_type": "markdown",
   "metadata": {},
   "source": [
    "### Plotten unsere Klassifikation\n"
   ]
  },
  {
   "cell_type": "code",
   "execution_count": 49,
   "metadata": {},
   "outputs": [
    {
     "data": {
      "image/png": "[encoded data removed]",
      "text/plain": [
       "<Figure size 432x288 with 1 Axes>"
      ]
     },
     "metadata": {},
     "output_type": "display_data"
    }
   ],
   "source": [
    "plotter() # Plotten unsere Datenpunkte mit unserer Plotterfunktion"
   ]
  },
  {
   "cell_type": "markdown",
   "metadata": {},
   "source": [
    "##  Testen und Evaluieren  "
   ]
  },
  {
   "cell_type": "markdown",
   "metadata": {},
   "source": [
    "#### Wir haben  verschiedene Gewichte und Lernraten probiert um das Ergebnis des Adalines zu verbessern.\n",
    "\n",
    "#### Ergebnisse:\n",
    "1. Lernrate: 1.0, Gewichte 0, 0, 0 => Nach 900 Schritten kein Erfolg\n",
    "2. Lernrate: 0.5, Gewichte 0, 0, 0 => Nach 900 Schritten kein Erfolg\n",
    "3. Lernrate: 0.05, Gewichte 0, 0, 0 => Nach 900 Schritten kein Erfolg\n",
    "4. Lernrate: 0.0005, Gewichte 0.5, 0.5, 0.5 => Nach 900 Schritten kein Erfolg\n",
    "5. Lernrate: 0.00001, Gewichte 0.5, 0.5, 0.5 => Nach 325 Schritten ein Erfolg\n",
    "\n",
    "##### 6. Bester Versuch: Lernrate: 0.0001, Gewichte 0.5134, 0.4825, 0.5134 => Nach 69 Schritten ein Erfolg\n",
    "##### Gewichte nach dem 69 Schritt des #6 Versuchs w0: 0.424845369849261, w1: -0.355642100939889, w2: 0.250338659588931\n",
    "\n",
    "#### Besonders gut zu erkennen ist das eine feine Justierung der Gewichten sowie der Lernrate zu einem signifikaten unterschied führen kann. Gut zu erkennen ist da bei Versuch #6 nur geringe unterschiede zu Versuch #5 bestehen aber dennoch ein wesentlicher unterschied im Ausgang des Ergebnisses liegt. So braucht Versuch #5 325 Schritte bis das Adaline alle Punkte korrekt klassifizieren kann. #6 hingegen schafft das mit seiner Justierung nach 69 Schritten."
   ]
  },
  {
   "cell_type": "markdown",
   "metadata": {},
   "source": [
    "# Grenzen unseres Adalines\n",
    "\n",
    "### Unser Adaline kann natürlich nicht alles klassifizieren so befindet sich in der Datei adaline_unclass_data ein Datensatz der durch unser Adaline nicht eindeutig zugeordnet werden kann. "
   ]
  }
 ],
 "metadata": {
  "kernelspec": {
   "display_name": "SageMath 8.6",
   "language": "",
   "name": "sagemath"
  },
  "language_info": {
   "codemirror_mode": {
    "name": "ipython",
    "version": 2
   },
   "file_extension": ".py",
   "mimetype": "text/x-python",
   "name": "python",
   "nbconvert_exporter": "python",
   "pygments_lexer": "ipython2",
   "version": "2.7.15"
  }
 },
 "nbformat": 4,
 "nbformat_minor": 2
}
